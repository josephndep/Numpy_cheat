{
 "cells": [
  {
   "cell_type": "code",
   "execution_count": 10,
   "metadata": {},
   "outputs": [],
   "source": [
    "# NUMPY ARRAYS: Creating Arrays\n",
    "import numpy as np\n",
    "import matplotlib.pyplot as plt\n",
    "from numpy import random\n",
    "\n",
    "list_1 = [1, 2, 3, 4, 5, 6]\n",
    "np_arr_1 = np.array(list_1, dtype=np.int8)\n",
    "np_arr_1\n",
    "\n",
    "M_list_1 = [[1,2,3],[4,5,6],[7,8,9]]\n",
    "np_M_arr_1 = np.array(M_list_1)\n",
    "\n",
    "np.arange(1, 10)\n",
    "np.linspace(0,5,5)\n",
    "np.zeros(4)\n",
    "np.zeros((2, 3))\n",
    "np_M_arr_1.size\n",
    "np_arr_2 = np.array([1, 2, 3, 4, 5, 6])\n",
    "np_arr_2.dtype\n",
    "\n",
    "np.random.randint(10, 50, 5)\n",
    "np.random.randint(10, 50, size=(2, 3))\n",
    "np.random.randint?\n",
    "#Data Types\n",
    "# Boolean: np.bool\n",
    "# Char: np.byte\n",
    "# Short: np.short\n",
    "# Integer: np.short\n",
    "# Long: np.int\n",
    "# Float: np.single and np.float32\n",
    "# Double: np.double and np.float64\n",
    "# np.int8: -128 to 127\n",
    "# np.int16: -32768 to 32767\n",
    "# np.int32: -2147789900 to 2147486459\n",
    "# np.int64: -90000000000000000000 to 900000000000000000000"
   ]
  },
  {
   "cell_type": "markdown",
   "metadata": {},
   "source": [
    "# "
   ]
  },
  {
   "cell_type": "code",
   "execution_count": null,
   "metadata": {},
   "outputs": [],
   "source": [
    "# SLICING & INDEXES\n",
    "np_M_arr_1[0, 0] = 2\n",
    "np_M_arr_1.itemset((0, 1), 1)\n",
    "np_M_arr_1\n",
    "np_M_arr_1.shape\n",
    "np_M_arr_1.item(0, 2)\n",
    "\n",
    "np.take(np_M_arr_1, [0, 3, 6])\n",
    "np.put(np_M_arr_1, [0, 3, 6], [10, 10, 5])\n",
    "np_M_arr_1\n",
    "\n",
    "np_M_arr_1[:, 1]\n",
    "np_M_arr_1[::-1]\n",
    "\n",
    "evens = np_M_arr_1[np_M_arr_1%2==0]\n",
    "evens\n",
    "\n",
    "np_M_arr_a[np_M_arr_1 > 5]\n",
    "np_M_arr_a[np_M_arr_1 > 5] | (np_M_arr_1 == 10)\n",
    "\n",
    "np.unique(np_M_arr_1)"
   ]
  },
  {
   "cell_type": "code",
   "execution_count": null,
   "metadata": {},
   "outputs": [],
   "source": [
    "# RESHAPING ARRAYS\n",
    "np_M_arr_1.reshape((1, 9))\n",
    "np.resize(np_m_arr_1; (2,5))\n",
    "\n",
    "np_M_arr_1.transpose()\n",
    "np_M_arr_1.swapaxes(0, 1)\n",
    "np_M_arr_1.flatten()\n",
    "np_M_arr_1.sort(axis=0)\n",
    "np_M_arr_1\n"
   ]
  },
  {
   "cell_type": "code",
   "execution_count": 30,
   "metadata": {},
   "outputs": [
    {
     "name": "stdout",
     "output_type": "stream",
     "text": [
      "ss_arr_1\n",
      " [[2 5]\n",
      " [2 3]]\n",
      "ss_arr_2\n",
      " [[0 8]\n",
      " [2 5]]\n",
      "ss_arr_5\n",
      " [[2 5 5 6 8 6 9 7 3 8]\n",
      " [3 3 0 0 3 0 0 8 3 7]]\n"
     ]
    },
    {
     "data": {
      "text/plain": [
       "[array([[2, 5],\n",
       "        [3, 3]]),\n",
       " array([[5, 6],\n",
       "        [0, 0]]),\n",
       " array([[8, 6, 9, 7, 3, 8],\n",
       "        [3, 0, 0, 8, 3, 7]])]"
      ]
     },
     "execution_count": 30,
     "metadata": {},
     "output_type": "execute_result"
    }
   ],
   "source": [
    "#STACKING AND SPLITTING\n",
    "ss_arr_1 = np.random.randint(10, size=(2, 2))\n",
    "print(\"ss_arr_1\\n\", ss_arr_1)\n",
    "ss_arr_2 = np.random.randint(10, size=(2, 2))\n",
    "print(\"ss_arr_2\\n\", ss_arr_2)\n",
    "\n",
    "np.hstack((ss_arr_1, ss_arr_2))\n",
    "\n",
    "ss_arr_3 = np.delete(ss_arr_1, 1, 0)\n",
    "ss_arr_4 = np.delete(ss_arr_2, 1, 0)\n",
    "np.row_stack((ss_arr_3, ss_arr_3))\n",
    "\n",
    "ss_arr_5 = np.random.randint(10, size=(2, 10))\n",
    "print(\"ss_arr_5\\n\", ss_arr_5)\n",
    "np.hsplit(ss_arr_5, 5)\n",
    "np.hsplit(ss_arr_5, (2, 4))"
   ]
  },
  {
   "cell_type": "code",
   "execution_count": 31,
   "metadata": {},
   "outputs": [
    {
     "name": "stdout",
     "output_type": "stream",
     "text": [
      "cp_arr_1\n",
      " [[2 7]\n",
      " [0 1]]\n",
      "cp_arr_2\n",
      " [[2 7]\n",
      " [0 1]]\n",
      "cp_arr_1\n",
      " [[2 7]\n",
      " [0 1]]\n"
     ]
    }
   ],
   "source": [
    "#COPYING\n",
    "cp_arr_1 = np.random.randint(10, size=(2, 2))\n",
    "cp_arr_2 = cp_arr_1\n",
    "cp_arr_1[0,0] = 2\n",
    "print(\"cp_arr_1\\n\", cp_arr_1)\n",
    "print(\"cp_arr_2\\n\", cp_arr_2)\n",
    "\n",
    "cp_arr_3 = cp_arr_1.view()\n",
    "cp_arr_3.flatten('F')\n",
    "print(\"cp_arr_1\\n\", cp_arr_1)\n",
    "\n",
    "cp_arr_4 = cp_arr_1.copy()"
   ]
  },
  {
   "cell_type": "code",
   "execution_count": 51,
   "metadata": {},
   "outputs": [
    {
     "name": "stdout",
     "output_type": "stream",
     "text": [
      "[0.4        0.66666667 0.85714286 1.        ]\n",
      "[1 2 3 4]\n",
      "[5 6 7 8]\n"
     ]
    },
    {
     "data": {
      "text/plain": [
       "array([ 5, 12, 21, 32])"
      ]
     },
     "execution_count": 51,
     "metadata": {},
     "output_type": "execute_result"
    }
   ],
   "source": [
    "#BASIC MATH\n",
    "arr_3 = np.array([1, 2, 3, 4])\n",
    "arr_4 = np.array([5, 6, 7, 8])\n",
    "arr_5 = arr_3 / arr_4\n",
    "arr_5\n",
    "arr_6 = arr_5 * ([2])\n",
    "arr_6\n",
    "\n",
    "arr_7 = random.randint(100, size=(4))\n",
    "arr_8 = random.randint(100, size=(2, 3))\n",
    "random.choice(arr_5)\n",
    "\n",
    "arr_3.sum()\n",
    "\n",
    "print (arr_6)\n",
    "arr_6.sum(axis=0) \n",
    "\n",
    "print(arr_3)\n",
    "print(arr_4)\n",
    "add_array = np.add(arr_3, 5)\n",
    "add_array\n",
    "\n",
    "np.divide(arr_3, arr_4)\n",
    "np.multiply(arr_3, arr_4)\n",
    "\n",
    "array_8 = np.array([[1, 3], [3, 4]])\n",
    "array_9 = np.array([[2, 4], [6, 9]])\n",
    "np.remainder(array_8, array_9)\n",
    "np.power(array_8, array_9)\n",
    "np.sqrt(array_8)\n",
    "np.cbrt(array_8)\n",
    "np.absolute([-1, -2])\n",
    "np.exp(array_8)\n",
    "np.log10(array_8)\n",
    "\n",
    "np.gcd.reduce([9, 12, 15])\n",
    "np.floor([1, 2, 4, 5])\n",
    "np.ceil([1, 2, 4, 5])\n",
    "\n",
    "sq_arr = np.arange(6)**2\n",
    "\n",
    "arr_10 = np.random.randint(10, size=(5, 3))\n",
    "print(arr_10)\n",
    "mc_index = arr_10.argmax(axis=0)\n",
    "max_nums = arr_10[mc_index]\n",
    "max_nums\n"
   ]
  },
  {
   "cell_type": "code",
   "execution_count": null,
   "metadata": {},
   "outputs": [],
   "source": [
    "# READING FROM FILES FROM NUMPY\n",
    "import pandas as pd\n",
    "from numpy import genfromtxt\n",
    "\n",
    "ic_sales = pd.read_csv('  .csv').to_numpy()\n",
    "ic_sales\n",
    "\n",
    "ic_sales_2 = genfromtxt('  .csv', delimiter=\",\")\n",
    "ic_sales_2 = [row[~np.isnan(row)] for row in ic_sales_2]\n",
    "ic_sales_2"
   ]
  },
  {
   "cell_type": "code",
   "execution_count": 62,
   "metadata": {},
   "outputs": [
    {
     "name": "stdout",
     "output_type": "stream",
     "text": [
      "arr_5\n",
      " [0.2        0.33333333 0.42857143 0.5       ]\n",
      "arr_6\n",
      " [0.4        0.66666667 0.85714286 1.        ]\n"
     ]
    },
    {
     "data": {
      "text/plain": [
       "1.1695691609977323"
      ]
     },
     "execution_count": 62,
     "metadata": {},
     "output_type": "execute_result"
    }
   ],
   "source": [
    "# LINEAR ALGEBRA FUNCTIONS\n",
    "from numpy import  linalg as LA\n",
    "\n",
    "print(\"arr_5\\n\", arr_5)\n",
    "print(\"arr_6\\n\", arr_6)\n",
    "arr_8 = np.array([[5, 6], [7, 8]])\n",
    "\n",
    "# Matrix multiplication with dot product\n",
    "# (1 * 2) + (2 * 4) + (3* 7) = 14 [0, 0]\n",
    "# (1 * 2) + (2 * 4) + (3* 7) = 14 [0, 0]\n",
    "# (1 * 2) + (2 * 4) + (3* 7) = 14 [0, 0]\n",
    "# (1 * 2) + (2 * 4) + (3* 7) = 14 [0, 0]\n",
    "np.dot(arr_5, arr_6)\n",
    "LA.multi_dot([arr_5, arr_6])\n",
    "# Inner Product\n",
    "# (1 * 2) + (2 * 4) = 10 [0, 0]\n",
    "# (1 * 2) + (2 * 4) = 10 [0, 0]\n",
    "# (1 * 2) + (2 * 4) = 10 [0, 0]\n",
    "np.inner(arr_5, arr_6)\n",
    "\n",
    "#Tensor dot product\n",
    "#(1 * 1) + (2 * 4) + (3 * 4) + (5 * 6) = 20\n",
    "#(1 * 1) + (2 * 4) + (3 * 4) + (5 * 6) = 20\n",
    "arr_9 = np.array([[1, 2], [3, 4], [5, 6], [7, 8]])\n",
    "arr_9\n",
    "arr_10 = np.array([[1, 2], [3, 4]], dtype=object)\n",
    "np.tensordot(arr_9, arr_10)\n",
    "\n",
    "#Einstein summation: provides ways to perform\n",
    "# operations on multiple arrays\n",
    "arr_11 = np.array([0, 1])\n",
    "arr_12 = np.array([[0, 1, 2, 3], [4, 5, 6, 7]])\n",
    "#i, ij->i\n",
    "np.einsum('i,ij->i', arr_11, arr_12)\n",
    "\n",
    "#raise matrix to the power of n\n",
    "# given [[a, b], [c, d]]\n",
    "# [[a2 +bc, ab + db], [ac + dc, d2 + bc]]\n",
    "\n",
    "\n",
    "# Kronecker product of 2 arrays\n",
    "# given [[a, b], [c, d]], [[e,f], [g, h]]\n",
    "# [[a*e, a*f, b*e, b*f], [a*g, a*h, b*g, b*h]]\n",
    "\n",
    "\n",
    "# compute eigenvalues\n",
    "\n",
    "\n",
    "# Get vector norm sqrt(sum(x**2))\n",
    "\n",
    "\n",
    "# get multiplication of a matrix\n",
    "\n",
    "# solving systems of linear equations\n",
    "# if the eqn 3x + 5 = 9 => 5 = 6x => x = 5 /6\n",
    "# if the eqn x + 4y = 10 & 6x + 18y = 42\n",
    "# make x the subject => x = 10 - 4y\n",
    "# Answer y = 3 and x = -2\n",
    "\n",
    "#Return a identity matrix with defined number of rows and columns"
   ]
  },
  {
   "cell_type": "code",
   "execution_count": 58,
   "metadata": {},
   "outputs": [
    {
     "data": {
      "text/plain": [
       "1.3599999999999999"
      ]
     },
     "execution_count": 58,
     "metadata": {},
     "output_type": "execute_result"
    }
   ],
   "source": [
    "# STATISTICAL FUNCTIONS\n",
    "sarr_1 = np.arange(1, 6)\n",
    "sarr_1\n",
    "np.mean(sarr_1)\n",
    "np.average(sarr_1)\n",
    "np.median(sarr_1)\n",
    "np.std(sarr_1)\n",
    "np.var([4, 6, 3, 5, 3])\n",
    "# also there is nanmedian, nanmean, nanstd, nanvar\n",
    "print(\"ic_sales\\n\", ic_sales)\n",
    "\n",
    "np.percentile(ic_sales, 50, axis=0)\n",
    "ic_sales[:,1]\n",
    "\n",
    "np.corrcoef(ic_sales[:,0], ic_sales[:,1])\n",
    "# if the corrcoef is closer to 1 that means they are highly correlated that means one variable increases if affects the other\n",
    "# variable\n",
    "\n",
    "#How to calculate a regression line\n",
    "# E(X-x)*(Y-y)/ E(X-x)2\n",
    "temp_mean = np.mean(ic_sales[:,0])\n",
    "sales_mean = np.mean(ic_sales[:,1])\n",
    "numerator = np.sum(((ic_sales[:,0] - temp_mean) * (ic_sales[:,1])- sales_mean))\n",
    "denominator = np.sum(np.square(ic_sales[:,0]-temp_mean))\n",
    "slope = numerator / denominator\n",
    "y_i = sales_mean - slope * temp_mean\n",
    "y_i\n",
    "reg_arr = ic_sales[:,0] * slope + y_i\n",
    "reg_arr"
   ]
  },
  {
   "cell_type": "code",
   "execution_count": 60,
   "metadata": {},
   "outputs": [
    {
     "data": {
      "text/plain": [
       "14.142135623730951"
      ]
     },
     "execution_count": 60,
     "metadata": {},
     "output_type": "execute_result"
    },
    {
     "data": {
      "image/png": "[encoded data removed]",
      "text/plain": [
       "<Figure size 432x288 with 1 Axes>"
      ]
     },
     "metadata": {
      "needs_background": "light"
     },
     "output_type": "display_data"
    }
   ],
   "source": [
    "# TRIG FUNCTIONS\n",
    "t_arr = np.linspace(-np.pi, np.pi, 200)\n",
    "plt.plot(t_arr, np.tan(t_arr))\n",
    "\n",
    "# y = cos(x) x = arccos(y)\n",
    "np.arctan(1)\n",
    "\n",
    "# Also arctan, sinh, cosh, tanh, arcsinh, arccosh, arctanh\n",
    "\n",
    "#Hypotenuse c = /^w2 + h2\n",
    "np.hypot(10, 10)"
   ]
  },
  {
   "cell_type": "code",
   "execution_count": 64,
   "metadata": {},
   "outputs": [
    {
     "data": {
      "text/plain": [
       "array([[1, 2],\n",
       "       [3, 4]])"
      ]
     },
     "execution_count": 64,
     "metadata": {},
     "output_type": "execute_result"
    }
   ],
   "source": [
    "# SAVING AND LOADING NUMPY OBJECTS\n",
    "arr_15 = np.array([[1, 2], [3, 4]])\n",
    "np.save('randarray', arr_15)\n",
    "arr_16 = np.load('randarray.npy')\n",
    "arr_16\n",
    "\n",
    "np.savetxt('randcsv.csv', arr_15)\n",
    "arr_17 = np.loadtxt('randcsv.csv')\n",
    "arr_17"
   ]
  },
  {
   "cell_type": "code",
   "execution_count": null,
   "metadata": {},
   "outputs": [],
   "source": [
    "#FINANCIAL FUNCTIONS\n",
    "# Install in Conda terminal with\n",
    "# conda install pip\n",
    "# pip install numpy-financial\n",
    "import numpy_financial as npf\n",
    "\n",
    "# Compute future value of $400 investment every month\n",
    "# with an annual rate of 8% after 10 years\n",
    "npf.fv(.08/12, 10*12, -400, -400)\n",
    "\n",
    "# Calculate interest portion of payment on a loan of $3,000\n",
    "# at 9.25% per year compounded monthly\n",
    "# Period of loan (year)\n",
    "period = np.arange(1*12) + 1\n",
    "principle = 3000.00\n",
    "# Interest Payment\n",
    "ipmt = npf.ipmt(0.0925/12, period, 1*12, principle)\n",
    "# Principle Payment\n",
    "ppmt = npf.ppmt(0.0925/12, period, 1*12, principle)\n",
    "for payment in period:\n",
    "    index = payment - 1\n",
    "    principle = principle + ppmt[index]\n",
    "    print(f\"{payment}   {np.round(ppmt[index], 2)}    {np.round(ipmt[index],2)}    {np.round(principle, 2)}\")\n",
    "\n",
    "# Compute number of payments to pay off $3,000 if you paid\n",
    "# $150 per month with an interest rate of 9.25%\n",
    "np.round(npf.nper(0.0925/12, -150, 3000.00), 2)\n",
    "\n",
    "# Calculate net present value of cash flows of $4,000, $5,000\n",
    "# $6,000, $7,000 after $15,000 investment with .08 rate per period\n",
    "npf.npv(0.08, [-15000, 4000, 5000, 6000, 7000]).round(2)"
   ]
  },
  {
   "cell_type": "code",
   "execution_count": null,
   "metadata": {},
   "outputs": [],
   "source": [
    "# COMPARISION FUNCTION\n",
    "carr_1 = np.array([2, 3])\n",
    "carr_2 = np.array([3, 2])\n",
    "# Returns boolean based on whether arr_1 value Comparison arr_2 value\n",
    "np.greater(carr_1, carr_2)\n",
    "np.greater_equal(carr_1, carr_2)\n",
    "np.less(carr_1, carr_2)\n",
    "np.less_equal(carr_1, carr_2)\n",
    "np.not_equal(carr_1, carr_2)\n",
    "np.equal(carr_1, carr_2)"
   ]
  }
 ],
 "metadata": {
  "kernelspec": {
   "display_name": "Python 3",
   "language": "python",
   "name": "python3"
  },
  "language_info": {
   "codemirror_mode": {
    "name": "ipython",
    "version": 3
   },
   "file_extension": ".py",
   "mimetype": "text/x-python",
   "name": "python",
   "nbconvert_exporter": "python",
   "pygments_lexer": "ipython3",
   "version": "3.8.5"
  }
 },
 "nbformat": 4,
 "nbformat_minor": 4
}
